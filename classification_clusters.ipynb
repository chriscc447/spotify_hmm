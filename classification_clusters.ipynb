{
 "cells": [
  {
   "cell_type": "code",
   "execution_count": 1,
   "metadata": {},
   "outputs": [],
   "source": [
    "import pandas as pd\n",
    "import matplotlib.pyplot as plt \n",
    "import numpy as np"
   ]
  },
  {
   "cell_type": "code",
   "execution_count": 2,
   "metadata": {},
   "outputs": [],
   "source": [
    "df = pd.read_csv(\"data/all_songs_clustered.csv\")"
   ]
  },
  {
   "cell_type": "code",
   "execution_count": 3,
   "metadata": {},
   "outputs": [
    {
     "data": {
      "text/html": [
       "<div>\n",
       "<style scoped>\n",
       "    .dataframe tbody tr th:only-of-type {\n",
       "        vertical-align: middle;\n",
       "    }\n",
       "\n",
       "    .dataframe tbody tr th {\n",
       "        vertical-align: top;\n",
       "    }\n",
       "\n",
       "    .dataframe thead th {\n",
       "        text-align: right;\n",
       "    }\n",
       "</style>\n",
       "<table border=\"1\" class=\"dataframe\">\n",
       "  <thead>\n",
       "    <tr style=\"text-align: right;\">\n",
       "      <th></th>\n",
       "      <th>uri</th>\n",
       "      <th>artist</th>\n",
       "      <th>title</th>\n",
       "      <th>danceability</th>\n",
       "      <th>energy</th>\n",
       "      <th>loudness</th>\n",
       "      <th>speechiness</th>\n",
       "      <th>acousticness</th>\n",
       "      <th>liveness</th>\n",
       "      <th>valence</th>\n",
       "      <th>tempo</th>\n",
       "      <th>pc1</th>\n",
       "      <th>pc2</th>\n",
       "      <th>label</th>\n",
       "    </tr>\n",
       "  </thead>\n",
       "  <tbody>\n",
       "    <tr>\n",
       "      <th>0</th>\n",
       "      <td>spotify:track:1iaTDu4PCIWQQOwwwqq5qW</td>\n",
       "      <td>Said the Sky</td>\n",
       "      <td>All I Got</td>\n",
       "      <td>0.325</td>\n",
       "      <td>0.578</td>\n",
       "      <td>-6.786</td>\n",
       "      <td>0.0455</td>\n",
       "      <td>0.158000</td>\n",
       "      <td>0.575</td>\n",
       "      <td>0.103</td>\n",
       "      <td>144.745</td>\n",
       "      <td>-0.165722</td>\n",
       "      <td>0.541033</td>\n",
       "      <td>3</td>\n",
       "    </tr>\n",
       "    <tr>\n",
       "      <th>1</th>\n",
       "      <td>spotify:track:6Q3K9gVUZRMZqZKrXovbM2</td>\n",
       "      <td>Kygo</td>\n",
       "      <td>I'll Wait</td>\n",
       "      <td>0.611</td>\n",
       "      <td>0.651</td>\n",
       "      <td>-6.973</td>\n",
       "      <td>0.0587</td>\n",
       "      <td>0.148000</td>\n",
       "      <td>0.105</td>\n",
       "      <td>0.357</td>\n",
       "      <td>122.983</td>\n",
       "      <td>-0.165114</td>\n",
       "      <td>0.068425</td>\n",
       "      <td>4</td>\n",
       "    </tr>\n",
       "    <tr>\n",
       "      <th>2</th>\n",
       "      <td>spotify:track:75ZKw8JLaFsYr51J44fQ4N</td>\n",
       "      <td>joan</td>\n",
       "      <td>drive all night</td>\n",
       "      <td>0.542</td>\n",
       "      <td>0.758</td>\n",
       "      <td>-5.032</td>\n",
       "      <td>0.0313</td>\n",
       "      <td>0.000184</td>\n",
       "      <td>0.144</td>\n",
       "      <td>0.430</td>\n",
       "      <td>156.128</td>\n",
       "      <td>-0.447970</td>\n",
       "      <td>0.189226</td>\n",
       "      <td>3</td>\n",
       "    </tr>\n",
       "    <tr>\n",
       "      <th>3</th>\n",
       "      <td>spotify:track:6Wz9rIfo9tOBcVCd1Mo7F7</td>\n",
       "      <td>Nightly</td>\n",
       "      <td>Twenty Something</td>\n",
       "      <td>0.641</td>\n",
       "      <td>0.589</td>\n",
       "      <td>-6.305</td>\n",
       "      <td>0.0275</td>\n",
       "      <td>0.096000</td>\n",
       "      <td>0.208</td>\n",
       "      <td>0.110</td>\n",
       "      <td>100.001</td>\n",
       "      <td>-0.125609</td>\n",
       "      <td>0.129021</td>\n",
       "      <td>4</td>\n",
       "    </tr>\n",
       "    <tr>\n",
       "      <th>4</th>\n",
       "      <td>spotify:track:1Srt81FTalOhRw7t7l8Yh8</td>\n",
       "      <td>Lauv</td>\n",
       "      <td>Tattoos Together</td>\n",
       "      <td>0.862</td>\n",
       "      <td>0.400</td>\n",
       "      <td>-7.486</td>\n",
       "      <td>0.0736</td>\n",
       "      <td>0.005750</td>\n",
       "      <td>0.123</td>\n",
       "      <td>0.596</td>\n",
       "      <td>122.963</td>\n",
       "      <td>-0.092945</td>\n",
       "      <td>-0.245872</td>\n",
       "      <td>2</td>\n",
       "    </tr>\n",
       "    <tr>\n",
       "      <th>...</th>\n",
       "      <td>...</td>\n",
       "      <td>...</td>\n",
       "      <td>...</td>\n",
       "      <td>...</td>\n",
       "      <td>...</td>\n",
       "      <td>...</td>\n",
       "      <td>...</td>\n",
       "      <td>...</td>\n",
       "      <td>...</td>\n",
       "      <td>...</td>\n",
       "      <td>...</td>\n",
       "      <td>...</td>\n",
       "      <td>...</td>\n",
       "      <td>...</td>\n",
       "    </tr>\n",
       "    <tr>\n",
       "      <th>234</th>\n",
       "      <td>spotify:track:7uzmGiiJyRfuViKKK3lVmR</td>\n",
       "      <td>Bazzi</td>\n",
       "      <td>Mine</td>\n",
       "      <td>0.710</td>\n",
       "      <td>0.789</td>\n",
       "      <td>-3.874</td>\n",
       "      <td>0.0722</td>\n",
       "      <td>0.016100</td>\n",
       "      <td>0.451</td>\n",
       "      <td>0.717</td>\n",
       "      <td>142.929</td>\n",
       "      <td>-0.486988</td>\n",
       "      <td>-0.214972</td>\n",
       "      <td>0</td>\n",
       "    </tr>\n",
       "    <tr>\n",
       "      <th>235</th>\n",
       "      <td>spotify:track:2cvOfKHOHgwQlLiuLKP2xR</td>\n",
       "      <td>Post Malone</td>\n",
       "      <td>Myself</td>\n",
       "      <td>0.476</td>\n",
       "      <td>0.701</td>\n",
       "      <td>-4.234</td>\n",
       "      <td>0.0349</td>\n",
       "      <td>0.102000</td>\n",
       "      <td>0.242</td>\n",
       "      <td>0.405</td>\n",
       "      <td>163.882</td>\n",
       "      <td>-0.368952</td>\n",
       "      <td>0.279627</td>\n",
       "      <td>3</td>\n",
       "    </tr>\n",
       "    <tr>\n",
       "      <th>236</th>\n",
       "      <td>spotify:track:1YuIEfhp8umr6QSal4FTK4</td>\n",
       "      <td>John K</td>\n",
       "      <td>OT</td>\n",
       "      <td>0.734</td>\n",
       "      <td>0.443</td>\n",
       "      <td>-6.466</td>\n",
       "      <td>0.0788</td>\n",
       "      <td>0.434000</td>\n",
       "      <td>0.107</td>\n",
       "      <td>0.617</td>\n",
       "      <td>79.485</td>\n",
       "      <td>0.202622</td>\n",
       "      <td>-0.368152</td>\n",
       "      <td>2</td>\n",
       "    </tr>\n",
       "    <tr>\n",
       "      <th>237</th>\n",
       "      <td>spotify:track:27as7exfxU3cNaYKr3HlHI</td>\n",
       "      <td>Lauv</td>\n",
       "      <td>Mean It - stripped</td>\n",
       "      <td>0.538</td>\n",
       "      <td>0.228</td>\n",
       "      <td>-10.837</td>\n",
       "      <td>0.0334</td>\n",
       "      <td>0.746000</td>\n",
       "      <td>0.126</td>\n",
       "      <td>0.517</td>\n",
       "      <td>90.912</td>\n",
       "      <td>0.627108</td>\n",
       "      <td>-0.055810</td>\n",
       "      <td>5</td>\n",
       "    </tr>\n",
       "    <tr>\n",
       "      <th>238</th>\n",
       "      <td>spotify:track:7ojmU04SuSKtIjzODRFIiB</td>\n",
       "      <td>Loud Luxury</td>\n",
       "      <td>I'm Not Alright - Frank Walker Remix</td>\n",
       "      <td>0.741</td>\n",
       "      <td>0.869</td>\n",
       "      <td>-3.557</td>\n",
       "      <td>0.0366</td>\n",
       "      <td>0.017600</td>\n",
       "      <td>0.137</td>\n",
       "      <td>0.686</td>\n",
       "      <td>124.990</td>\n",
       "      <td>-0.511499</td>\n",
       "      <td>-0.284107</td>\n",
       "      <td>0</td>\n",
       "    </tr>\n",
       "  </tbody>\n",
       "</table>\n",
       "<p>239 rows × 14 columns</p>\n",
       "</div>"
      ],
      "text/plain": [
       "                                      uri        artist  \\\n",
       "0    spotify:track:1iaTDu4PCIWQQOwwwqq5qW  Said the Sky   \n",
       "1    spotify:track:6Q3K9gVUZRMZqZKrXovbM2          Kygo   \n",
       "2    spotify:track:75ZKw8JLaFsYr51J44fQ4N          joan   \n",
       "3    spotify:track:6Wz9rIfo9tOBcVCd1Mo7F7       Nightly   \n",
       "4    spotify:track:1Srt81FTalOhRw7t7l8Yh8          Lauv   \n",
       "..                                    ...           ...   \n",
       "234  spotify:track:7uzmGiiJyRfuViKKK3lVmR         Bazzi   \n",
       "235  spotify:track:2cvOfKHOHgwQlLiuLKP2xR   Post Malone   \n",
       "236  spotify:track:1YuIEfhp8umr6QSal4FTK4        John K   \n",
       "237  spotify:track:27as7exfxU3cNaYKr3HlHI          Lauv   \n",
       "238  spotify:track:7ojmU04SuSKtIjzODRFIiB   Loud Luxury   \n",
       "\n",
       "                                    title  danceability  energy  loudness  \\\n",
       "0                               All I Got         0.325   0.578    -6.786   \n",
       "1                               I'll Wait         0.611   0.651    -6.973   \n",
       "2                         drive all night         0.542   0.758    -5.032   \n",
       "3                        Twenty Something         0.641   0.589    -6.305   \n",
       "4                        Tattoos Together         0.862   0.400    -7.486   \n",
       "..                                    ...           ...     ...       ...   \n",
       "234                                  Mine         0.710   0.789    -3.874   \n",
       "235                                Myself         0.476   0.701    -4.234   \n",
       "236                                    OT         0.734   0.443    -6.466   \n",
       "237                    Mean It - stripped         0.538   0.228   -10.837   \n",
       "238  I'm Not Alright - Frank Walker Remix         0.741   0.869    -3.557   \n",
       "\n",
       "     speechiness  acousticness  liveness  valence    tempo       pc1  \\\n",
       "0         0.0455      0.158000     0.575    0.103  144.745 -0.165722   \n",
       "1         0.0587      0.148000     0.105    0.357  122.983 -0.165114   \n",
       "2         0.0313      0.000184     0.144    0.430  156.128 -0.447970   \n",
       "3         0.0275      0.096000     0.208    0.110  100.001 -0.125609   \n",
       "4         0.0736      0.005750     0.123    0.596  122.963 -0.092945   \n",
       "..           ...           ...       ...      ...      ...       ...   \n",
       "234       0.0722      0.016100     0.451    0.717  142.929 -0.486988   \n",
       "235       0.0349      0.102000     0.242    0.405  163.882 -0.368952   \n",
       "236       0.0788      0.434000     0.107    0.617   79.485  0.202622   \n",
       "237       0.0334      0.746000     0.126    0.517   90.912  0.627108   \n",
       "238       0.0366      0.017600     0.137    0.686  124.990 -0.511499   \n",
       "\n",
       "          pc2  label  \n",
       "0    0.541033      3  \n",
       "1    0.068425      4  \n",
       "2    0.189226      3  \n",
       "3    0.129021      4  \n",
       "4   -0.245872      2  \n",
       "..        ...    ...  \n",
       "234 -0.214972      0  \n",
       "235  0.279627      3  \n",
       "236 -0.368152      2  \n",
       "237 -0.055810      5  \n",
       "238 -0.284107      0  \n",
       "\n",
       "[239 rows x 14 columns]"
      ]
     },
     "execution_count": 3,
     "metadata": {},
     "output_type": "execute_result"
    }
   ],
   "source": [
    "df"
   ]
  },
  {
   "cell_type": "code",
   "execution_count": 4,
   "metadata": {},
   "outputs": [],
   "source": [
    "cols =['danceability', 'energy', 'loudness', 'speechiness', 'acousticness',\n",
    "       'liveness', 'valence', 'tempo']"
   ]
  },
  {
   "cell_type": "markdown",
   "metadata": {},
   "source": [
    "## Clf"
   ]
  },
  {
   "cell_type": "code",
   "execution_count": 5,
   "metadata": {},
   "outputs": [],
   "source": [
    "y = df.label"
   ]
  },
  {
   "cell_type": "code",
   "execution_count": 9,
   "metadata": {},
   "outputs": [],
   "source": [
    "X = df.loc[:,cols]"
   ]
  },
  {
   "cell_type": "code",
   "execution_count": 10,
   "metadata": {},
   "outputs": [
    {
     "data": {
      "text/html": [
       "<div>\n",
       "<style scoped>\n",
       "    .dataframe tbody tr th:only-of-type {\n",
       "        vertical-align: middle;\n",
       "    }\n",
       "\n",
       "    .dataframe tbody tr th {\n",
       "        vertical-align: top;\n",
       "    }\n",
       "\n",
       "    .dataframe thead th {\n",
       "        text-align: right;\n",
       "    }\n",
       "</style>\n",
       "<table border=\"1\" class=\"dataframe\">\n",
       "  <thead>\n",
       "    <tr style=\"text-align: right;\">\n",
       "      <th></th>\n",
       "      <th>danceability</th>\n",
       "      <th>energy</th>\n",
       "      <th>loudness</th>\n",
       "      <th>speechiness</th>\n",
       "      <th>acousticness</th>\n",
       "      <th>liveness</th>\n",
       "      <th>valence</th>\n",
       "      <th>tempo</th>\n",
       "    </tr>\n",
       "  </thead>\n",
       "  <tbody>\n",
       "    <tr>\n",
       "      <th>0</th>\n",
       "      <td>0.325</td>\n",
       "      <td>0.578</td>\n",
       "      <td>-6.786</td>\n",
       "      <td>0.0455</td>\n",
       "      <td>0.158000</td>\n",
       "      <td>0.575</td>\n",
       "      <td>0.103</td>\n",
       "      <td>144.745</td>\n",
       "    </tr>\n",
       "    <tr>\n",
       "      <th>1</th>\n",
       "      <td>0.611</td>\n",
       "      <td>0.651</td>\n",
       "      <td>-6.973</td>\n",
       "      <td>0.0587</td>\n",
       "      <td>0.148000</td>\n",
       "      <td>0.105</td>\n",
       "      <td>0.357</td>\n",
       "      <td>122.983</td>\n",
       "    </tr>\n",
       "    <tr>\n",
       "      <th>2</th>\n",
       "      <td>0.542</td>\n",
       "      <td>0.758</td>\n",
       "      <td>-5.032</td>\n",
       "      <td>0.0313</td>\n",
       "      <td>0.000184</td>\n",
       "      <td>0.144</td>\n",
       "      <td>0.430</td>\n",
       "      <td>156.128</td>\n",
       "    </tr>\n",
       "    <tr>\n",
       "      <th>3</th>\n",
       "      <td>0.641</td>\n",
       "      <td>0.589</td>\n",
       "      <td>-6.305</td>\n",
       "      <td>0.0275</td>\n",
       "      <td>0.096000</td>\n",
       "      <td>0.208</td>\n",
       "      <td>0.110</td>\n",
       "      <td>100.001</td>\n",
       "    </tr>\n",
       "    <tr>\n",
       "      <th>4</th>\n",
       "      <td>0.862</td>\n",
       "      <td>0.400</td>\n",
       "      <td>-7.486</td>\n",
       "      <td>0.0736</td>\n",
       "      <td>0.005750</td>\n",
       "      <td>0.123</td>\n",
       "      <td>0.596</td>\n",
       "      <td>122.963</td>\n",
       "    </tr>\n",
       "    <tr>\n",
       "      <th>...</th>\n",
       "      <td>...</td>\n",
       "      <td>...</td>\n",
       "      <td>...</td>\n",
       "      <td>...</td>\n",
       "      <td>...</td>\n",
       "      <td>...</td>\n",
       "      <td>...</td>\n",
       "      <td>...</td>\n",
       "    </tr>\n",
       "    <tr>\n",
       "      <th>234</th>\n",
       "      <td>0.710</td>\n",
       "      <td>0.789</td>\n",
       "      <td>-3.874</td>\n",
       "      <td>0.0722</td>\n",
       "      <td>0.016100</td>\n",
       "      <td>0.451</td>\n",
       "      <td>0.717</td>\n",
       "      <td>142.929</td>\n",
       "    </tr>\n",
       "    <tr>\n",
       "      <th>235</th>\n",
       "      <td>0.476</td>\n",
       "      <td>0.701</td>\n",
       "      <td>-4.234</td>\n",
       "      <td>0.0349</td>\n",
       "      <td>0.102000</td>\n",
       "      <td>0.242</td>\n",
       "      <td>0.405</td>\n",
       "      <td>163.882</td>\n",
       "    </tr>\n",
       "    <tr>\n",
       "      <th>236</th>\n",
       "      <td>0.734</td>\n",
       "      <td>0.443</td>\n",
       "      <td>-6.466</td>\n",
       "      <td>0.0788</td>\n",
       "      <td>0.434000</td>\n",
       "      <td>0.107</td>\n",
       "      <td>0.617</td>\n",
       "      <td>79.485</td>\n",
       "    </tr>\n",
       "    <tr>\n",
       "      <th>237</th>\n",
       "      <td>0.538</td>\n",
       "      <td>0.228</td>\n",
       "      <td>-10.837</td>\n",
       "      <td>0.0334</td>\n",
       "      <td>0.746000</td>\n",
       "      <td>0.126</td>\n",
       "      <td>0.517</td>\n",
       "      <td>90.912</td>\n",
       "    </tr>\n",
       "    <tr>\n",
       "      <th>238</th>\n",
       "      <td>0.741</td>\n",
       "      <td>0.869</td>\n",
       "      <td>-3.557</td>\n",
       "      <td>0.0366</td>\n",
       "      <td>0.017600</td>\n",
       "      <td>0.137</td>\n",
       "      <td>0.686</td>\n",
       "      <td>124.990</td>\n",
       "    </tr>\n",
       "  </tbody>\n",
       "</table>\n",
       "<p>239 rows × 8 columns</p>\n",
       "</div>"
      ],
      "text/plain": [
       "     danceability  energy  loudness  speechiness  acousticness  liveness  \\\n",
       "0           0.325   0.578    -6.786       0.0455      0.158000     0.575   \n",
       "1           0.611   0.651    -6.973       0.0587      0.148000     0.105   \n",
       "2           0.542   0.758    -5.032       0.0313      0.000184     0.144   \n",
       "3           0.641   0.589    -6.305       0.0275      0.096000     0.208   \n",
       "4           0.862   0.400    -7.486       0.0736      0.005750     0.123   \n",
       "..            ...     ...       ...          ...           ...       ...   \n",
       "234         0.710   0.789    -3.874       0.0722      0.016100     0.451   \n",
       "235         0.476   0.701    -4.234       0.0349      0.102000     0.242   \n",
       "236         0.734   0.443    -6.466       0.0788      0.434000     0.107   \n",
       "237         0.538   0.228   -10.837       0.0334      0.746000     0.126   \n",
       "238         0.741   0.869    -3.557       0.0366      0.017600     0.137   \n",
       "\n",
       "     valence    tempo  \n",
       "0      0.103  144.745  \n",
       "1      0.357  122.983  \n",
       "2      0.430  156.128  \n",
       "3      0.110  100.001  \n",
       "4      0.596  122.963  \n",
       "..       ...      ...  \n",
       "234    0.717  142.929  \n",
       "235    0.405  163.882  \n",
       "236    0.617   79.485  \n",
       "237    0.517   90.912  \n",
       "238    0.686  124.990  \n",
       "\n",
       "[239 rows x 8 columns]"
      ]
     },
     "execution_count": 10,
     "metadata": {},
     "output_type": "execute_result"
    }
   ],
   "source": [
    "X"
   ]
  },
  {
   "cell_type": "code",
   "execution_count": 12,
   "metadata": {},
   "outputs": [
    {
     "data": {
      "text/plain": [
       "4    52\n",
       "2    46\n",
       "0    36\n",
       "6    31\n",
       "5    30\n",
       "3    30\n",
       "1    14\n",
       "Name: label, dtype: int64"
      ]
     },
     "execution_count": 12,
     "metadata": {},
     "output_type": "execute_result"
    }
   ],
   "source": [
    "y.value_counts()"
   ]
  },
  {
   "cell_type": "markdown",
   "metadata": {},
   "source": [
    "## Eval"
   ]
  },
  {
   "cell_type": "code",
   "execution_count": 19,
   "metadata": {},
   "outputs": [],
   "source": [
    "from imblearn.over_sampling import RandomOverSampler\n",
    "from sklearn.model_selection import train_test_split \n",
    "from sklearn.metrics import plot_confusion_matrix, accuracy_score\n",
    "from sklearn.preprocessing import RobustScaler\n",
    "from sklearn.model_selection import GridSearchCV, RandomizedSearchCV"
   ]
  },
  {
   "cell_type": "code",
   "execution_count": 20,
   "metadata": {},
   "outputs": [],
   "source": [
    "def plotCM(fitted_model, X_test, y_test):\n",
    "    \"\"\"\n",
    "    plots confusion matrix for given model\n",
    "    \"\"\"\n",
    "    disp = plot_confusion_matrix(fitted_model, X_test, y_test,\n",
    "                                 cmap=plt.cm.Blues,\n",
    "                                 normalize=\"true\")\n",
    "    disp.ax_.set_title(\"Normalized confusion matrix\")\n",
    "\n",
    "    print(\"Normalized confusion matrix\")\n",
    "    print(disp.confusion_matrix)\n",
    "    \n",
    "    \n",
    "    acc = accuracy_score(y_test, fitted_model.predict(X_test))\n",
    "    print(f\"Accuracy: {acc}\")\n"
   ]
  },
  {
   "cell_type": "code",
   "execution_count": 21,
   "metadata": {},
   "outputs": [],
   "source": [
    "def gridsearch(model, hyperparams, X_train, y_train, random = False, n_iter = 100):\n",
    "    if random:\n",
    "        gs = RandomizedSearchCV(estimator = model, param_distributions = hyperparams, \\\n",
    "                              n_iter = n_iter, verbose=3, n_jobs = -1).fit(X_train, y_train)\n",
    "    else:\n",
    "        gs = GridSearchCV(estimator = model, verbose = 3, n_jobs = -1, param_grid = hyperparams).fit(X_train, y_train)\n",
    "    return {\"model\": gs.best_estimator_, \"params\": gs.best_params_}"
   ]
  },
  {
   "cell_type": "markdown",
   "metadata": {},
   "source": [
    "## Models"
   ]
  },
  {
   "cell_type": "code",
   "execution_count": 22,
   "metadata": {},
   "outputs": [],
   "source": [
    "X_train, X_test, y_train, y_test = train_test_split(X, y, test_size=0.2, random_state = 1)"
   ]
  },
  {
   "cell_type": "code",
   "execution_count": 27,
   "metadata": {},
   "outputs": [],
   "source": [
    "from sklearn.ensemble import RandomForestClassifier"
   ]
  },
  {
   "cell_type": "code",
   "execution_count": 28,
   "metadata": {},
   "outputs": [
    {
     "name": "stdout",
     "output_type": "stream",
     "text": [
      "Normalized confusion matrix\n",
      "[[0.83333333 0.         0.         0.         0.16666667 0.\n",
      "  0.        ]\n",
      " [0.         0.         0.         0.         0.         1.\n",
      "  0.        ]\n",
      " [0.         0.         0.85714286 0.         0.14285714 0.\n",
      "  0.        ]\n",
      " [0.25       0.         0.         0.75       0.         0.\n",
      "  0.        ]\n",
      " [0.         0.         0.         0.07142857 0.92857143 0.\n",
      "  0.        ]\n",
      " [0.         0.         0.         0.         0.         0.8\n",
      "  0.2       ]\n",
      " [0.         0.         0.16666667 0.         0.33333333 0.\n",
      "  0.5       ]]\n",
      "Accuracy: 0.7708333333333334\n"
     ]
    },
    {
     "data": {
      "image/png": "[encoded data removed]",
      "text/plain": [
       "<Figure size 432x288 with 2 Axes>"
      ]
     },
     "metadata": {
      "needs_background": "light"
     },
     "output_type": "display_data"
    }
   ],
   "source": [
    "rf = RandomForestClassifier(class_weight = 'balanced', n_jobs = -1).fit(X_train, y_train)\n",
    "plotCM(rf, X_test, y_test)"
   ]
  },
  {
   "cell_type": "code",
   "execution_count": 33,
   "metadata": {},
   "outputs": [
    {
     "name": "stdout",
     "output_type": "stream",
     "text": [
      "Fitting 5 folds for each of 48 candidates, totalling 240 fits\n"
     ]
    },
    {
     "name": "stderr",
     "output_type": "stream",
     "text": [
      "[Parallel(n_jobs=-1)]: Using backend LokyBackend with 4 concurrent workers.\n",
      "[Parallel(n_jobs=-1)]: Done  24 tasks      | elapsed:    5.6s\n",
      "[Parallel(n_jobs=-1)]: Done 120 tasks      | elapsed:   17.8s\n",
      "[Parallel(n_jobs=-1)]: Done 240 out of 240 | elapsed:   32.4s finished\n"
     ]
    },
    {
     "name": "stdout",
     "output_type": "stream",
     "text": [
      "Normalized confusion matrix\n",
      "[[0.83333333 0.         0.         0.         0.16666667 0.\n",
      "  0.        ]\n",
      " [0.         0.         0.         0.         0.         1.\n",
      "  0.        ]\n",
      " [0.         0.         0.85714286 0.         0.         0.14285714\n",
      "  0.        ]\n",
      " [0.125      0.         0.         0.875      0.         0.\n",
      "  0.        ]\n",
      " [0.         0.         0.14285714 0.07142857 0.78571429 0.\n",
      "  0.        ]\n",
      " [0.         0.         0.         0.         0.         1.\n",
      "  0.        ]\n",
      " [0.         0.         0.16666667 0.         0.16666667 0.\n",
      "  0.66666667]]\n",
      "Accuracy: 0.7916666666666666\n"
     ]
    },
    {
     "data": {
      "image/png": "[encoded data removed]",
      "text/plain": [
       "<Figure size 432x288 with 2 Axes>"
      ]
     },
     "metadata": {
      "needs_background": "light"
     },
     "output_type": "display_data"
    }
   ],
   "source": [
    "rf_grid = {\n",
    "    \"n_estimators\": range(50, 250, 50),\n",
    "    \"max_depth\": range(10,16,2),\n",
    "    'max_leaf_nodes': range(40,60,5)\n",
    "}\n",
    "rf_cv = gridsearch(RandomForestClassifier(class_weight = 'balanced', n_jobs = -1), rf_grid, X_train, y_train)\n",
    "plotCM(rf_cv['model'], X_test, y_test)"
   ]
  },
  {
   "cell_type": "code",
   "execution_count": 34,
   "metadata": {},
   "outputs": [
    {
     "data": {
      "text/plain": [
       "{'max_depth': 10, 'max_leaf_nodes': 40, 'n_estimators': 200}"
      ]
     },
     "execution_count": 34,
     "metadata": {},
     "output_type": "execute_result"
    }
   ],
   "source": [
    "rf_cv['params']"
   ]
  },
  {
   "cell_type": "markdown",
   "metadata": {},
   "source": [
    "## Scaled"
   ]
  },
  {
   "cell_type": "code",
   "execution_count": 35,
   "metadata": {},
   "outputs": [
    {
     "name": "stdout",
     "output_type": "stream",
     "text": [
      "Medians: [ 6.17000e-01  6.09000e-01 -6.73900e+00  4.70000e-02  2.29000e-01\n",
      "  1.19000e-01  4.01000e-01  1.19856e+02]\n",
      "IQRs: [ 0.1915   0.2505   3.0415   0.0465   0.4159   0.10235  0.2535  45.436  ]\n"
     ]
    }
   ],
   "source": [
    "scaler = RobustScaler().fit(X)\n",
    "print(f\"Medians: {scaler.center_}\")\n",
    "print(f\"IQRs: {scaler.scale_}\")"
   ]
  },
  {
   "cell_type": "code",
   "execution_count": 36,
   "metadata": {},
   "outputs": [],
   "source": [
    "X_scaled = scaler.transform(X)\n",
    "Xs_train, Xs_test, ys_train, ys_test = train_test_split(X_scaled, y, test_size=0.2, random_state = 1)"
   ]
  },
  {
   "cell_type": "code",
   "execution_count": 37,
   "metadata": {
    "scrolled": false
   },
   "outputs": [
    {
     "name": "stdout",
     "output_type": "stream",
     "text": [
      "Normalized confusion matrix\n",
      "[[0.83333333 0.         0.         0.         0.16666667 0.\n",
      "  0.        ]\n",
      " [0.         0.         0.         0.         0.         1.\n",
      "  0.        ]\n",
      " [0.         0.         0.85714286 0.         0.         0.14285714\n",
      "  0.        ]\n",
      " [0.25       0.         0.         0.75       0.         0.\n",
      "  0.        ]\n",
      " [0.         0.         0.         0.14285714 0.85714286 0.\n",
      "  0.        ]\n",
      " [0.         0.         0.         0.         0.         1.\n",
      "  0.        ]\n",
      " [0.         0.         0.16666667 0.         0.16666667 0.\n",
      "  0.66666667]]\n",
      "Accuracy: 0.7916666666666666\n"
     ]
    },
    {
     "data": {
      "image/png": "[encoded data removed]",
      "text/plain": [
       "<Figure size 432x288 with 2 Axes>"
      ]
     },
     "metadata": {
      "needs_background": "light"
     },
     "output_type": "display_data"
    }
   ],
   "source": [
    "rf_s = RandomForestClassifier(n_jobs = -1, random_state = 1).fit(Xs_train, ys_train)\n",
    "plotCM(rf_s, Xs_test, ys_test)"
   ]
  },
  {
   "cell_type": "code",
   "execution_count": 38,
   "metadata": {},
   "outputs": [
    {
     "name": "stdout",
     "output_type": "stream",
     "text": [
      "Fitting 5 folds for each of 48 candidates, totalling 240 fits\n"
     ]
    },
    {
     "name": "stderr",
     "output_type": "stream",
     "text": [
      "[Parallel(n_jobs=-1)]: Using backend LokyBackend with 4 concurrent workers.\n",
      "[Parallel(n_jobs=-1)]: Done  24 tasks      | elapsed:    2.7s\n",
      "[Parallel(n_jobs=-1)]: Done 120 tasks      | elapsed:   14.9s\n",
      "[Parallel(n_jobs=-1)]: Done 240 out of 240 | elapsed:   29.4s finished\n"
     ]
    },
    {
     "name": "stdout",
     "output_type": "stream",
     "text": [
      "Normalized confusion matrix\n",
      "[[0.83333333 0.         0.         0.         0.16666667 0.\n",
      "  0.        ]\n",
      " [0.         0.5        0.         0.         0.         0.5\n",
      "  0.        ]\n",
      " [0.         0.         0.85714286 0.         0.         0.14285714\n",
      "  0.        ]\n",
      " [0.25       0.         0.         0.75       0.         0.\n",
      "  0.        ]\n",
      " [0.         0.         0.         0.07142857 0.92857143 0.\n",
      "  0.        ]\n",
      " [0.         0.         0.         0.         0.         1.\n",
      "  0.        ]\n",
      " [0.         0.         0.16666667 0.         0.33333333 0.\n",
      "  0.5       ]]\n",
      "Accuracy: 0.8125\n"
     ]
    },
    {
     "data": {
      "image/png": "[encoded data removed]",
      "text/plain": [
       "<Figure size 432x288 with 2 Axes>"
      ]
     },
     "metadata": {
      "needs_background": "light"
     },
     "output_type": "display_data"
    }
   ],
   "source": [
    "rfs_cv = gridsearch(RandomForestClassifier(class_weight = 'balanced', n_jobs = -1, random_state = 1), rf_grid, Xs_train, ys_train)\n",
    "plotCM(rfs_cv['model'], Xs_test, ys_test)"
   ]
  },
  {
   "cell_type": "code",
   "execution_count": 39,
   "metadata": {},
   "outputs": [
    {
     "data": {
      "text/plain": [
       "{'max_depth': 12, 'max_leaf_nodes': 40, 'n_estimators': 200}"
      ]
     },
     "execution_count": 39,
     "metadata": {},
     "output_type": "execute_result"
    }
   ],
   "source": [
    "rfs_cv['params']"
   ]
  },
  {
   "cell_type": "code",
   "execution_count": null,
   "metadata": {},
   "outputs": [],
   "source": []
  },
  {
   "cell_type": "markdown",
   "metadata": {},
   "source": [
    "### Balance"
   ]
  },
  {
   "cell_type": "code",
   "execution_count": 40,
   "metadata": {},
   "outputs": [],
   "source": [
    "Xb, yb = RandomOverSampler().fit_sample(X, y)\n",
    "Xb_train, Xb_test, yb_train, yb_test = train_test_split(Xb, yb, test_size=0.2, random_state = 1)"
   ]
  },
  {
   "cell_type": "code",
   "execution_count": 41,
   "metadata": {},
   "outputs": [
    {
     "name": "stdout",
     "output_type": "stream",
     "text": [
      "Normalized confusion matrix\n",
      "[[0.9        0.         0.1        0.         0.         0.\n",
      "  0.        ]\n",
      " [0.         1.         0.         0.         0.         0.\n",
      "  0.        ]\n",
      " [0.         0.         0.8        0.         0.         0.06666667\n",
      "  0.13333333]\n",
      " [0.         0.         0.         0.92857143 0.         0.\n",
      "  0.07142857]\n",
      " [0.16666667 0.         0.         0.         0.66666667 0.\n",
      "  0.16666667]\n",
      " [0.         0.         0.         0.         0.         1.\n",
      "  0.        ]\n",
      " [0.         0.         0.         0.         0.3        0.1\n",
      "  0.6       ]]\n",
      "Accuracy: 0.8493150684931506\n"
     ]
    },
    {
     "data": {
      "image/png": "[encoded data removed]",
      "text/plain": [
       "<Figure size 432x288 with 2 Axes>"
      ]
     },
     "metadata": {
      "needs_background": "light"
     },
     "output_type": "display_data"
    }
   ],
   "source": [
    "rf_b = RandomForestClassifier(n_jobs = -1).fit(Xb_train, yb_train)\n",
    "plotCM(rf_b, Xb_test, yb_test)"
   ]
  },
  {
   "cell_type": "code",
   "execution_count": 42,
   "metadata": {
    "scrolled": false
   },
   "outputs": [
    {
     "name": "stdout",
     "output_type": "stream",
     "text": [
      "Fitting 5 folds for each of 48 candidates, totalling 240 fits\n"
     ]
    },
    {
     "name": "stderr",
     "output_type": "stream",
     "text": [
      "[Parallel(n_jobs=-1)]: Using backend LokyBackend with 4 concurrent workers.\n",
      "[Parallel(n_jobs=-1)]: Done  24 tasks      | elapsed:    2.9s\n",
      "[Parallel(n_jobs=-1)]: Done 120 tasks      | elapsed:   14.9s\n",
      "[Parallel(n_jobs=-1)]: Done 240 out of 240 | elapsed:   29.5s finished\n"
     ]
    },
    {
     "name": "stdout",
     "output_type": "stream",
     "text": [
      "Normalized confusion matrix\n",
      "[[0.9        0.         0.1        0.         0.         0.\n",
      "  0.        ]\n",
      " [0.         1.         0.         0.         0.         0.\n",
      "  0.        ]\n",
      " [0.         0.         0.8        0.         0.         0.06666667\n",
      "  0.13333333]\n",
      " [0.07142857 0.         0.         0.85714286 0.         0.\n",
      "  0.07142857]\n",
      " [0.16666667 0.         0.         0.         0.66666667 0.\n",
      "  0.16666667]\n",
      " [0.         0.         0.         0.         0.         1.\n",
      "  0.        ]\n",
      " [0.         0.         0.         0.         0.2        0.1\n",
      "  0.7       ]]\n",
      "Accuracy: 0.8493150684931506\n"
     ]
    },
    {
     "data": {
      "image/png": "[encoded data removed]",
      "text/plain": [
       "<Figure size 432x288 with 2 Axes>"
      ]
     },
     "metadata": {
      "needs_background": "light"
     },
     "output_type": "display_data"
    }
   ],
   "source": [
    "rfb_cv = gridsearch(RandomForestClassifier(n_jobs = -1), rf_grid, Xb_train, yb_train)\n",
    "plotCM(rfb_cv['model'], Xb_test, yb_test)"
   ]
  },
  {
   "cell_type": "code",
   "execution_count": 43,
   "metadata": {},
   "outputs": [
    {
     "data": {
      "text/plain": [
       "{'max_depth': 10, 'max_leaf_nodes': 40, 'n_estimators': 150}"
      ]
     },
     "execution_count": 43,
     "metadata": {},
     "output_type": "execute_result"
    }
   ],
   "source": [
    "rfb_cv['params']"
   ]
  },
  {
   "cell_type": "markdown",
   "metadata": {},
   "source": [
    "## Balance + scale"
   ]
  },
  {
   "cell_type": "code",
   "execution_count": 45,
   "metadata": {},
   "outputs": [
    {
     "name": "stdout",
     "output_type": "stream",
     "text": [
      "Medians: [ 5.9850e-01  5.7400e-01 -6.8890e+00  4.8500e-02  2.9000e-01  1.1650e-01\n",
      "  3.8100e-01  1.2303e+02]\n",
      "IQRs: [ 0.20175   0.29575   4.052     0.05375   0.575125  0.113975  0.28\n",
      " 44.48625 ]\n"
     ]
    }
   ],
   "source": [
    "scalerb = RobustScaler().fit(Xb)\n",
    "print(f\"Medians: {scalerb.center_}\")\n",
    "print(f\"IQRs: {scalerb.scale_}\")"
   ]
  },
  {
   "cell_type": "code",
   "execution_count": 46,
   "metadata": {},
   "outputs": [],
   "source": [
    "Xb_scaled = scalerb.transform(Xb)\n",
    "Xbs_train, Xbs_test, ybs_train, ybs_test = train_test_split(Xb_scaled, yb, test_size=0.2, random_state = 1)"
   ]
  },
  {
   "cell_type": "code",
   "execution_count": 47,
   "metadata": {
    "scrolled": false
   },
   "outputs": [
    {
     "name": "stdout",
     "output_type": "stream",
     "text": [
      "Normalized confusion matrix\n",
      "[[0.9        0.         0.1        0.         0.         0.\n",
      "  0.        ]\n",
      " [0.         1.         0.         0.         0.         0.\n",
      "  0.        ]\n",
      " [0.         0.         0.8        0.         0.         0.13333333\n",
      "  0.06666667]\n",
      " [0.         0.         0.         0.92857143 0.         0.\n",
      "  0.07142857]\n",
      " [0.16666667 0.         0.         0.         0.66666667 0.\n",
      "  0.16666667]\n",
      " [0.         0.         0.         0.         0.         1.\n",
      "  0.        ]\n",
      " [0.         0.         0.         0.         0.2        0.\n",
      "  0.8       ]]\n",
      "Accuracy: 0.8767123287671232\n"
     ]
    },
    {
     "data": {
      "image/png": "[encoded data removed]",
      "text/plain": [
       "<Figure size 432x288 with 2 Axes>"
      ]
     },
     "metadata": {
      "needs_background": "light"
     },
     "output_type": "display_data"
    }
   ],
   "source": [
    "rf_bs = RandomForestClassifier(n_jobs = -1, random_state = 1).fit(Xbs_train, ybs_train)\n",
    "plotCM(rf_bs, Xbs_test, ybs_test)"
   ]
  },
  {
   "cell_type": "code",
   "execution_count": 57,
   "metadata": {},
   "outputs": [],
   "source": [
    "import pickle\n",
    "with open('rf_model.sav', 'wb') as f:\n",
    "    pickle.dump(rf_bs, f)\n",
    "with open('scalers.data', 'wb') as f:\n",
    "    pickle.dump({'center': scalerb.center_,'scale': scalerb.scale_}, f)"
   ]
  },
  {
   "cell_type": "code",
   "execution_count": 48,
   "metadata": {},
   "outputs": [
    {
     "name": "stdout",
     "output_type": "stream",
     "text": [
      "Fitting 5 folds for each of 48 candidates, totalling 240 fits\n"
     ]
    },
    {
     "name": "stderr",
     "output_type": "stream",
     "text": [
      "[Parallel(n_jobs=-1)]: Using backend LokyBackend with 4 concurrent workers.\n",
      "[Parallel(n_jobs=-1)]: Done  24 tasks      | elapsed:    2.8s\n",
      "[Parallel(n_jobs=-1)]: Done 120 tasks      | elapsed:   14.6s\n",
      "[Parallel(n_jobs=-1)]: Done 240 out of 240 | elapsed:   29.1s finished\n"
     ]
    },
    {
     "name": "stdout",
     "output_type": "stream",
     "text": [
      "Normalized confusion matrix\n",
      "[[0.9        0.         0.1        0.         0.         0.\n",
      "  0.        ]\n",
      " [0.         1.         0.         0.         0.         0.\n",
      "  0.        ]\n",
      " [0.         0.         0.8        0.         0.         0.06666667\n",
      "  0.13333333]\n",
      " [0.07142857 0.         0.         0.85714286 0.         0.\n",
      "  0.07142857]\n",
      " [0.16666667 0.         0.         0.         0.66666667 0.\n",
      "  0.16666667]\n",
      " [0.         0.         0.         0.         0.         1.\n",
      "  0.        ]\n",
      " [0.         0.         0.         0.         0.2        0.\n",
      "  0.8       ]]\n",
      "Accuracy: 0.863013698630137\n"
     ]
    },
    {
     "data": {
      "image/png": "[encoded data removed]",
      "text/plain": [
       "<Figure size 432x288 with 2 Axes>"
      ]
     },
     "metadata": {
      "needs_background": "light"
     },
     "output_type": "display_data"
    }
   ],
   "source": [
    "rfbs_cv = gridsearch(RandomForestClassifier(n_jobs = -1, random_state = 1), rf_grid, Xbs_train, ybs_train)\n",
    "plotCM(rfbs_cv['model'], Xbs_test, ybs_test)"
   ]
  },
  {
   "cell_type": "code",
   "execution_count": null,
   "metadata": {},
   "outputs": [],
   "source": []
  }
 ],
 "metadata": {
  "kernelspec": {
   "display_name": "Python 3.7.4 64-bit ('base': conda)",
   "language": "python",
   "name": "python37464bitbasecondade3031e102d342aa8a702b3f5f29a489"
  },
  "language_info": {
   "codemirror_mode": {
    "name": "ipython",
    "version": 3
   },
   "file_extension": ".py",
   "mimetype": "text/x-python",
   "name": "python",
   "nbconvert_exporter": "python",
   "pygments_lexer": "ipython3",
   "version": "3.7.6"
  }
 },
 "nbformat": 4,
 "nbformat_minor": 4
}
