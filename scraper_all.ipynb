{
 "cells": [
  {
   "cell_type": "code",
   "execution_count": 1,
   "metadata": {},
   "outputs": [],
   "source": [
    "import spotipy\n",
    "import pandas as pd\n",
    "from spotipy.oauth2 import SpotifyClientCredentials, SpotifyOAuth\n",
    "import spotipy.util as util\n",
    "import pprint\n",
    "from tqdm.notebook import tqdm\n",
    "import re\n",
    "from dateutil.parser import isoparse as dateparse\n",
    "from datetime import datetime, timedelta\n",
    "import pickle\n",
    "from sp_client import Spotify_Client\n",
    "\n",
    "pp = pprint.PrettyPrinter(indent=4)"
   ]
  },
  {
   "cell_type": "code",
   "execution_count": 3,
   "metadata": {},
   "outputs": [],
   "source": [
    "sp = Spotify_Client()"
   ]
  },
  {
   "cell_type": "code",
   "execution_count": 4,
   "metadata": {},
   "outputs": [],
   "source": [
    "#save playlist uris\n",
    "with open('ref/playlists.data', 'wb') as f:\n",
    "    pickle.dump({p['uri'] for p in sp.current_user_playlists()['items']}, f)"
   ]
  },
  {
   "cell_type": "code",
   "execution_count": 5,
   "metadata": {},
   "outputs": [],
   "source": [
    "def get_track_info(track_dict):\n",
    "    track = track_dict['track']\n",
    "    name = track['name']\n",
    "    artist = track['artists'][0]['name']\n",
    "    uri = track['uri']\n",
    "    \n",
    "    return artist, name, uri\n",
    "   "
   ]
  },
  {
   "cell_type": "code",
   "execution_count": 12,
   "metadata": {},
   "outputs": [],
   "source": [
    "def playlist_scraper(playlist_id, processed, sp = sp):\n",
    "    #get all songs in given playlist\n",
    "    cols =['danceability', 'energy', 'loudness', 'speechiness', 'acousticness','liveness', 'valence', 'tempo']\n",
    "    playlist = sp.playlist_tracks(playlist_id)['items']\n",
    "    data = []      #list of dicts of audio features\n",
    "    \n",
    "    for track in tqdm(playlist):\n",
    "        artist, name, uri = get_track_info(track)\n",
    "        if uri not in processed:\n",
    "            row = dict()\n",
    "            af = sp.audio_features(uri)[0]\n",
    "            del af[\"type\"], af[\"id\"], af[\"track_href\"], af[\"analysis_url\"], af['duration_ms']\n",
    "            row['artist'] = artist\n",
    "            row['title'] = name\n",
    "            row['uri'] = uri\n",
    "\n",
    "            for c in cols:\n",
    "                row[c] = af[c]\n",
    "            \n",
    "            data.append(row)\n",
    "            processed.add(uri)\n",
    "    return data, processed"
   ]
  },
  {
   "cell_type": "code",
   "execution_count": 13,
   "metadata": {},
   "outputs": [],
   "source": [
    "def all_scraper(sp = sp, playlist_names = [\"test_1\",\"test_2\", \"test_3\"], save = False, csv_path = \"data/all_songs.csv\"):\n",
    "    #scrape all songs in given playlists\n",
    "    playlists = sp.current_user_playlists()['items']\n",
    "    playlists = list(filter(lambda x: x['name'] in playlist_names, playlists))  #only get songs from specified playlists\n",
    "    p_ids = [p['id'] for p in playlists]\n",
    "    processed = set() #set of uris, no duplicate songs\n",
    "    data = [] #song features\n",
    "    \n",
    "    for p_id in tqdm(p_ids):\n",
    "        songs, processed = playlist_scraper(p_id, processed, sp)\n",
    "        data.extend(songs)\n",
    "\n",
    "    all_songs = pd.DataFrame(data)\n",
    "    all_songs.set_index('uri', inplace = True)\n",
    "    return all_songs\n",
    "        \n",
    "    \n"
   ]
  },
  {
   "cell_type": "code",
   "execution_count": 14,
   "metadata": {},
   "outputs": [
    {
     "data": {
      "application/vnd.jupyter.widget-view+json": {
       "model_id": "daa53bed29374c118ae48ad6b185da8b",
       "version_major": 2,
       "version_minor": 0
      },
      "text/plain": [
       "HBox(children=(FloatProgress(value=0.0, max=3.0), HTML(value='')))"
      ]
     },
     "metadata": {},
     "output_type": "display_data"
    },
    {
     "data": {
      "application/vnd.jupyter.widget-view+json": {
       "model_id": "30008746f868405390ac48ff9e678b71",
       "version_major": 2,
       "version_minor": 0
      },
      "text/plain": [
       "HBox(children=(FloatProgress(value=0.0), HTML(value='')))"
      ]
     },
     "metadata": {},
     "output_type": "display_data"
    },
    {
     "name": "stdout",
     "output_type": "stream",
     "text": [
      "\n"
     ]
    },
    {
     "data": {
      "application/vnd.jupyter.widget-view+json": {
       "model_id": "1116375081cf4c03827850239a0fc7f0",
       "version_major": 2,
       "version_minor": 0
      },
      "text/plain": [
       "HBox(children=(FloatProgress(value=0.0), HTML(value='')))"
      ]
     },
     "metadata": {},
     "output_type": "display_data"
    },
    {
     "name": "stdout",
     "output_type": "stream",
     "text": [
      "\n"
     ]
    },
    {
     "data": {
      "application/vnd.jupyter.widget-view+json": {
       "model_id": "9b42c2434a704333920a970f422e4c9e",
       "version_major": 2,
       "version_minor": 0
      },
      "text/plain": [
       "HBox(children=(FloatProgress(value=0.0, max=41.0), HTML(value='')))"
      ]
     },
     "metadata": {},
     "output_type": "display_data"
    },
    {
     "name": "stdout",
     "output_type": "stream",
     "text": [
      "\n",
      "\n"
     ]
    }
   ],
   "source": [
    "all_songs = all_scraper()"
   ]
  },
  {
   "cell_type": "code",
   "execution_count": 17,
   "metadata": {},
   "outputs": [
    {
     "data": {
      "text/plain": [
       "array([0.325, 0.578, -6.786, 0.0455, 0.158, 0.575, 0.103, 144.745],\n",
       "      dtype=object)"
      ]
     },
     "execution_count": 17,
     "metadata": {},
     "output_type": "execute_result"
    }
   ],
   "source": [
    "all_songs.iloc[0,2:].values"
   ]
  },
  {
   "cell_type": "code",
   "execution_count": 15,
   "metadata": {},
   "outputs": [
    {
     "data": {
      "text/html": [
       "<div>\n",
       "<style scoped>\n",
       "    .dataframe tbody tr th:only-of-type {\n",
       "        vertical-align: middle;\n",
       "    }\n",
       "\n",
       "    .dataframe tbody tr th {\n",
       "        vertical-align: top;\n",
       "    }\n",
       "\n",
       "    .dataframe thead th {\n",
       "        text-align: right;\n",
       "    }\n",
       "</style>\n",
       "<table border=\"1\" class=\"dataframe\">\n",
       "  <thead>\n",
       "    <tr style=\"text-align: right;\">\n",
       "      <th></th>\n",
       "      <th>artist</th>\n",
       "      <th>title</th>\n",
       "      <th>danceability</th>\n",
       "      <th>energy</th>\n",
       "      <th>loudness</th>\n",
       "      <th>speechiness</th>\n",
       "      <th>acousticness</th>\n",
       "      <th>liveness</th>\n",
       "      <th>valence</th>\n",
       "      <th>tempo</th>\n",
       "    </tr>\n",
       "    <tr>\n",
       "      <th>uri</th>\n",
       "      <th></th>\n",
       "      <th></th>\n",
       "      <th></th>\n",
       "      <th></th>\n",
       "      <th></th>\n",
       "      <th></th>\n",
       "      <th></th>\n",
       "      <th></th>\n",
       "      <th></th>\n",
       "      <th></th>\n",
       "    </tr>\n",
       "  </thead>\n",
       "  <tbody>\n",
       "    <tr>\n",
       "      <th>spotify:track:1iaTDu4PCIWQQOwwwqq5qW</th>\n",
       "      <td>Said the Sky</td>\n",
       "      <td>All I Got</td>\n",
       "      <td>0.325</td>\n",
       "      <td>0.578</td>\n",
       "      <td>-6.786</td>\n",
       "      <td>0.0455</td>\n",
       "      <td>0.158000</td>\n",
       "      <td>0.575</td>\n",
       "      <td>0.103</td>\n",
       "      <td>144.745</td>\n",
       "    </tr>\n",
       "    <tr>\n",
       "      <th>spotify:track:6Q3K9gVUZRMZqZKrXovbM2</th>\n",
       "      <td>Kygo</td>\n",
       "      <td>I'll Wait</td>\n",
       "      <td>0.611</td>\n",
       "      <td>0.651</td>\n",
       "      <td>-6.973</td>\n",
       "      <td>0.0587</td>\n",
       "      <td>0.148000</td>\n",
       "      <td>0.105</td>\n",
       "      <td>0.357</td>\n",
       "      <td>122.983</td>\n",
       "    </tr>\n",
       "    <tr>\n",
       "      <th>spotify:track:75ZKw8JLaFsYr51J44fQ4N</th>\n",
       "      <td>joan</td>\n",
       "      <td>drive all night</td>\n",
       "      <td>0.542</td>\n",
       "      <td>0.758</td>\n",
       "      <td>-5.032</td>\n",
       "      <td>0.0313</td>\n",
       "      <td>0.000184</td>\n",
       "      <td>0.144</td>\n",
       "      <td>0.430</td>\n",
       "      <td>156.128</td>\n",
       "    </tr>\n",
       "    <tr>\n",
       "      <th>spotify:track:6Wz9rIfo9tOBcVCd1Mo7F7</th>\n",
       "      <td>Nightly</td>\n",
       "      <td>Twenty Something</td>\n",
       "      <td>0.641</td>\n",
       "      <td>0.589</td>\n",
       "      <td>-6.305</td>\n",
       "      <td>0.0275</td>\n",
       "      <td>0.096000</td>\n",
       "      <td>0.208</td>\n",
       "      <td>0.110</td>\n",
       "      <td>100.001</td>\n",
       "    </tr>\n",
       "    <tr>\n",
       "      <th>spotify:track:1Srt81FTalOhRw7t7l8Yh8</th>\n",
       "      <td>Lauv</td>\n",
       "      <td>Tattoos Together</td>\n",
       "      <td>0.862</td>\n",
       "      <td>0.400</td>\n",
       "      <td>-7.486</td>\n",
       "      <td>0.0736</td>\n",
       "      <td>0.005750</td>\n",
       "      <td>0.123</td>\n",
       "      <td>0.596</td>\n",
       "      <td>122.963</td>\n",
       "    </tr>\n",
       "    <tr>\n",
       "      <th>...</th>\n",
       "      <td>...</td>\n",
       "      <td>...</td>\n",
       "      <td>...</td>\n",
       "      <td>...</td>\n",
       "      <td>...</td>\n",
       "      <td>...</td>\n",
       "      <td>...</td>\n",
       "      <td>...</td>\n",
       "      <td>...</td>\n",
       "      <td>...</td>\n",
       "    </tr>\n",
       "    <tr>\n",
       "      <th>spotify:track:7uzmGiiJyRfuViKKK3lVmR</th>\n",
       "      <td>Bazzi</td>\n",
       "      <td>Mine</td>\n",
       "      <td>0.710</td>\n",
       "      <td>0.789</td>\n",
       "      <td>-3.874</td>\n",
       "      <td>0.0722</td>\n",
       "      <td>0.016100</td>\n",
       "      <td>0.451</td>\n",
       "      <td>0.717</td>\n",
       "      <td>142.929</td>\n",
       "    </tr>\n",
       "    <tr>\n",
       "      <th>spotify:track:2cvOfKHOHgwQlLiuLKP2xR</th>\n",
       "      <td>Post Malone</td>\n",
       "      <td>Myself</td>\n",
       "      <td>0.476</td>\n",
       "      <td>0.701</td>\n",
       "      <td>-4.234</td>\n",
       "      <td>0.0349</td>\n",
       "      <td>0.102000</td>\n",
       "      <td>0.242</td>\n",
       "      <td>0.405</td>\n",
       "      <td>163.882</td>\n",
       "    </tr>\n",
       "    <tr>\n",
       "      <th>spotify:track:1YuIEfhp8umr6QSal4FTK4</th>\n",
       "      <td>John K</td>\n",
       "      <td>OT</td>\n",
       "      <td>0.734</td>\n",
       "      <td>0.443</td>\n",
       "      <td>-6.466</td>\n",
       "      <td>0.0788</td>\n",
       "      <td>0.434000</td>\n",
       "      <td>0.107</td>\n",
       "      <td>0.617</td>\n",
       "      <td>79.485</td>\n",
       "    </tr>\n",
       "    <tr>\n",
       "      <th>spotify:track:27as7exfxU3cNaYKr3HlHI</th>\n",
       "      <td>Lauv</td>\n",
       "      <td>Mean It - stripped</td>\n",
       "      <td>0.538</td>\n",
       "      <td>0.228</td>\n",
       "      <td>-10.837</td>\n",
       "      <td>0.0334</td>\n",
       "      <td>0.746000</td>\n",
       "      <td>0.126</td>\n",
       "      <td>0.517</td>\n",
       "      <td>90.912</td>\n",
       "    </tr>\n",
       "    <tr>\n",
       "      <th>spotify:track:7ojmU04SuSKtIjzODRFIiB</th>\n",
       "      <td>Loud Luxury</td>\n",
       "      <td>I'm Not Alright - Frank Walker Remix</td>\n",
       "      <td>0.741</td>\n",
       "      <td>0.869</td>\n",
       "      <td>-3.557</td>\n",
       "      <td>0.0366</td>\n",
       "      <td>0.017600</td>\n",
       "      <td>0.137</td>\n",
       "      <td>0.686</td>\n",
       "      <td>124.990</td>\n",
       "    </tr>\n",
       "  </tbody>\n",
       "</table>\n",
       "<p>239 rows × 10 columns</p>\n",
       "</div>"
      ],
      "text/plain": [
       "                                            artist  \\\n",
       "uri                                                  \n",
       "spotify:track:1iaTDu4PCIWQQOwwwqq5qW  Said the Sky   \n",
       "spotify:track:6Q3K9gVUZRMZqZKrXovbM2          Kygo   \n",
       "spotify:track:75ZKw8JLaFsYr51J44fQ4N          joan   \n",
       "spotify:track:6Wz9rIfo9tOBcVCd1Mo7F7       Nightly   \n",
       "spotify:track:1Srt81FTalOhRw7t7l8Yh8          Lauv   \n",
       "...                                            ...   \n",
       "spotify:track:7uzmGiiJyRfuViKKK3lVmR         Bazzi   \n",
       "spotify:track:2cvOfKHOHgwQlLiuLKP2xR   Post Malone   \n",
       "spotify:track:1YuIEfhp8umr6QSal4FTK4        John K   \n",
       "spotify:track:27as7exfxU3cNaYKr3HlHI          Lauv   \n",
       "spotify:track:7ojmU04SuSKtIjzODRFIiB   Loud Luxury   \n",
       "\n",
       "                                                                     title  \\\n",
       "uri                                                                          \n",
       "spotify:track:1iaTDu4PCIWQQOwwwqq5qW                             All I Got   \n",
       "spotify:track:6Q3K9gVUZRMZqZKrXovbM2                             I'll Wait   \n",
       "spotify:track:75ZKw8JLaFsYr51J44fQ4N                       drive all night   \n",
       "spotify:track:6Wz9rIfo9tOBcVCd1Mo7F7                      Twenty Something   \n",
       "spotify:track:1Srt81FTalOhRw7t7l8Yh8                      Tattoos Together   \n",
       "...                                                                    ...   \n",
       "spotify:track:7uzmGiiJyRfuViKKK3lVmR                                  Mine   \n",
       "spotify:track:2cvOfKHOHgwQlLiuLKP2xR                                Myself   \n",
       "spotify:track:1YuIEfhp8umr6QSal4FTK4                                    OT   \n",
       "spotify:track:27as7exfxU3cNaYKr3HlHI                    Mean It - stripped   \n",
       "spotify:track:7ojmU04SuSKtIjzODRFIiB  I'm Not Alright - Frank Walker Remix   \n",
       "\n",
       "                                      danceability  energy  loudness  \\\n",
       "uri                                                                    \n",
       "spotify:track:1iaTDu4PCIWQQOwwwqq5qW         0.325   0.578    -6.786   \n",
       "spotify:track:6Q3K9gVUZRMZqZKrXovbM2         0.611   0.651    -6.973   \n",
       "spotify:track:75ZKw8JLaFsYr51J44fQ4N         0.542   0.758    -5.032   \n",
       "spotify:track:6Wz9rIfo9tOBcVCd1Mo7F7         0.641   0.589    -6.305   \n",
       "spotify:track:1Srt81FTalOhRw7t7l8Yh8         0.862   0.400    -7.486   \n",
       "...                                            ...     ...       ...   \n",
       "spotify:track:7uzmGiiJyRfuViKKK3lVmR         0.710   0.789    -3.874   \n",
       "spotify:track:2cvOfKHOHgwQlLiuLKP2xR         0.476   0.701    -4.234   \n",
       "spotify:track:1YuIEfhp8umr6QSal4FTK4         0.734   0.443    -6.466   \n",
       "spotify:track:27as7exfxU3cNaYKr3HlHI         0.538   0.228   -10.837   \n",
       "spotify:track:7ojmU04SuSKtIjzODRFIiB         0.741   0.869    -3.557   \n",
       "\n",
       "                                      speechiness  acousticness  liveness  \\\n",
       "uri                                                                         \n",
       "spotify:track:1iaTDu4PCIWQQOwwwqq5qW       0.0455      0.158000     0.575   \n",
       "spotify:track:6Q3K9gVUZRMZqZKrXovbM2       0.0587      0.148000     0.105   \n",
       "spotify:track:75ZKw8JLaFsYr51J44fQ4N       0.0313      0.000184     0.144   \n",
       "spotify:track:6Wz9rIfo9tOBcVCd1Mo7F7       0.0275      0.096000     0.208   \n",
       "spotify:track:1Srt81FTalOhRw7t7l8Yh8       0.0736      0.005750     0.123   \n",
       "...                                           ...           ...       ...   \n",
       "spotify:track:7uzmGiiJyRfuViKKK3lVmR       0.0722      0.016100     0.451   \n",
       "spotify:track:2cvOfKHOHgwQlLiuLKP2xR       0.0349      0.102000     0.242   \n",
       "spotify:track:1YuIEfhp8umr6QSal4FTK4       0.0788      0.434000     0.107   \n",
       "spotify:track:27as7exfxU3cNaYKr3HlHI       0.0334      0.746000     0.126   \n",
       "spotify:track:7ojmU04SuSKtIjzODRFIiB       0.0366      0.017600     0.137   \n",
       "\n",
       "                                      valence    tempo  \n",
       "uri                                                     \n",
       "spotify:track:1iaTDu4PCIWQQOwwwqq5qW    0.103  144.745  \n",
       "spotify:track:6Q3K9gVUZRMZqZKrXovbM2    0.357  122.983  \n",
       "spotify:track:75ZKw8JLaFsYr51J44fQ4N    0.430  156.128  \n",
       "spotify:track:6Wz9rIfo9tOBcVCd1Mo7F7    0.110  100.001  \n",
       "spotify:track:1Srt81FTalOhRw7t7l8Yh8    0.596  122.963  \n",
       "...                                       ...      ...  \n",
       "spotify:track:7uzmGiiJyRfuViKKK3lVmR    0.717  142.929  \n",
       "spotify:track:2cvOfKHOHgwQlLiuLKP2xR    0.405  163.882  \n",
       "spotify:track:1YuIEfhp8umr6QSal4FTK4    0.617   79.485  \n",
       "spotify:track:27as7exfxU3cNaYKr3HlHI    0.517   90.912  \n",
       "spotify:track:7ojmU04SuSKtIjzODRFIiB    0.686  124.990  \n",
       "\n",
       "[239 rows x 10 columns]"
      ]
     },
     "execution_count": 15,
     "metadata": {},
     "output_type": "execute_result"
    }
   ],
   "source": [
    "all_songs"
   ]
  },
  {
   "cell_type": "code",
   "execution_count": 16,
   "metadata": {},
   "outputs": [],
   "source": [
    "all_songs.to_csv(\"data/all_songs1.csv\")"
   ]
  }
 ],
 "metadata": {
  "kernelspec": {
   "display_name": "Python 3.7.4 64-bit ('base': conda)",
   "language": "python",
   "name": "python37464bitbasecondade3031e102d342aa8a702b3f5f29a489"
  },
  "language_info": {
   "codemirror_mode": {
    "name": "ipython",
    "version": 3
   },
   "file_extension": ".py",
   "mimetype": "text/x-python",
   "name": "python",
   "nbconvert_exporter": "python",
   "pygments_lexer": "ipython3",
   "version": "3.7.6"
  }
 },
 "nbformat": 4,
 "nbformat_minor": 4
}
